{
 "cells": [
  {
   "cell_type": "code",
   "execution_count": 1,
   "id": "c63438a1",
   "metadata": {},
   "outputs": [],
   "source": [
    "from tensorflow.keras.preprocessing import image\n",
    "from PIL import Image\n",
    "import random\n",
    "import numpy as np # linear algebra\n",
    "import pandas as pd # data processing, CSV file I/O (e.g. pd.read_csv)\n",
    "import os\n",
    "import cv2\n",
    "import matplotlib.pyplot as plt"
   ]
  },
  {
   "cell_type": "markdown",
   "id": "c8dfe902",
   "metadata": {},
   "source": [
    "# Creating a data set"
   ]
  },
  {
   "cell_type": "code",
   "execution_count": 2,
   "id": "5f96daa0",
   "metadata": {},
   "outputs": [
    {
     "name": "stdout",
     "output_type": "stream",
     "text": [
      "X_train shape :  (1448, 224, 224, 3)\n",
      "Y_train shape :  (1448, 2)\n"
     ]
    }
   ],
   "source": [
    "def DataSet():\n",
    "    #Define paths for training sets\n",
    "    train_path_yawn = 'W:/Case study dataset/train/yawn/'\n",
    "    train_path_no_yawn = 'W:/Case study dataset/train/no_yawn/'\n",
    "    # List the file name of the image in the path\n",
    "    imglist_train_yawn = os. listdir(train_path_yawn)\n",
    "    imglist_train_no_yawn = os.listdir(train_path_no_yawn)\n",
    "    # Define numpy objects to convert images to numoy vector form\n",
    "    X_train = np.empty((len(imglist_train_yawn) + len(imglist_train_no_yawn), 224, 224, 3))\n",
    "    Y_train = np.empty((len(imglist_train_yawn) + len(imglist_train_no_yawn), 2))\n",
    "    #Record the number of pictures\n",
    "    count = 0\n",
    "    for img_name in imglist_train_yawn:\n",
    "        #Get the path of the image\n",
    "        img_path = train_path_yawn + img_name\n",
    "        # The image.load_img() function reads the corresponding image and converts it to the target size\n",
    "        img = image.load_img(img_path, target_size=(224, 224))\n",
    "        # Turn the image into a numpy array and divide by 255 to normalize, so the shape of img is (224,224,3)\n",
    "        img = image.img_to_array(img) / 255.0\n",
    "        # # Load the processed image into the X_train object\n",
    "        X_train[count] = img\n",
    "        ## Load the processed images into the defined Y_train object, which is 1,0 since they are all yawn images\n",
    "        Y_train[count] = np.array((1,0))\n",
    "        count+=1\n",
    "    # Go through the pictures without yawning\n",
    "    for img_name in imglist_train_no_yawn:\n",
    "        img_path = train_path_no_yawn + img_name\n",
    "        # The image.load_img() function reads the corresponding image and converts it to the target size\n",
    "        img = image.load_img(img_path, target_size=(224, 224))\n",
    "        # Turn the image into a numpy array and divide by 255 to normalize, so the shape of img is (224,224,3)\n",
    "        img = image.img_to_array(img) / 255.0\n",
    "        # # Load the processed image into the X_train object\n",
    "        X_train[count] = img\n",
    "        # Load the processed images into the defined Y_train object, which is 1,0 since they are all yawn images\n",
    "        Y_train[count] = np.array((0,1))\n",
    "        count+=1\n",
    "    # Shuffle the data in the train set   \n",
    "    index = [i for i in range(len(X_train))]\n",
    "    random.shuffle(index)\n",
    "    X_train = X_train[index]\n",
    "    Y_train = Y_train[index]\n",
    "    #return two train dataset\n",
    "    return X_train,Y_train \n",
    "X_train,Y_train = DataSet()\n",
    "#No test set is required, and each validation splits the data from the training set to the test set\n",
    "np.save('W:/Case study dataset/test3/X_train', X_train, allow_pickle=True, fix_imports=True)\n",
    "np.save('W:/Case study dataset/test3/Y_train', Y_train, allow_pickle=True, fix_imports=True)\n",
    "print('X_train shape : ',X_train.shape)\n",
    "print('Y_train shape : ',Y_train.shape)\n"
   ]
  },
  {
   "cell_type": "markdown",
   "id": "6c6b39f5",
   "metadata": {},
   "source": [
    "# Training model"
   ]
  },
  {
   "cell_type": "code",
   "execution_count": 3,
   "id": "6d49954f",
   "metadata": {},
   "outputs": [],
   "source": [
    "import scipy\n",
    "from scipy import ndimage\n",
    "import tensorflow as tf\n",
    "from tensorflow.keras.applications.resnet50 import ResNet50\n",
    "from tensorflow.keras.applications.resnet50 import preprocess_input, decode_predictions\n",
    "from tensorflow.keras.optimizers import Adam\n",
    "from keras.callbacks import ModelCheckpoint"
   ]
  },
  {
   "cell_type": "code",
   "execution_count": 4,
   "id": "28ac92f1",
   "metadata": {},
   "outputs": [
    {
     "name": "stdout",
     "output_type": "stream",
     "text": [
      "Epoch 1/20\n",
      "109/109 [==============================] - ETA: 0s - loss: 0.9563 - accuracy: 0.5902\n",
      "Epoch 1: saving model to W:/Case study dataset/model\\myresnet50model_2classes_times=1_e20bs10_etimes=01_valacc=0.49.h5\n",
      "109/109 [==============================] - 397s 4s/step - loss: 0.9563 - accuracy: 0.5902 - val_loss: 1.4504 - val_accuracy: 0.4945\n",
      "Epoch 2/20\n",
      "109/109 [==============================] - ETA: 0s - loss: 0.6168 - accuracy: 0.6529\n",
      "Epoch 2: saving model to W:/Case study dataset/model\\myresnet50model_2classes_times=1_e20bs10_etimes=02_valacc=0.51.h5\n",
      "109/109 [==============================] - 359s 3s/step - loss: 0.6168 - accuracy: 0.6529 - val_loss: 1.2927 - val_accuracy: 0.5055\n",
      "Epoch 3/20\n",
      "109/109 [==============================] - ETA: 0s - loss: 0.5853 - accuracy: 0.7155\n",
      "Epoch 3: saving model to W:/Case study dataset/model\\myresnet50model_2classes_times=1_e20bs10_etimes=03_valacc=0.55.h5\n",
      "109/109 [==============================] - 355s 3s/step - loss: 0.5853 - accuracy: 0.7155 - val_loss: 0.7759 - val_accuracy: 0.5497\n",
      "Epoch 4/20\n",
      "109/109 [==============================] - ETA: 0s - loss: 0.5729 - accuracy: 0.7164\n",
      "Epoch 4: saving model to W:/Case study dataset/model\\myresnet50model_2classes_times=1_e20bs10_etimes=04_valacc=0.66.h5\n",
      "109/109 [==============================] - 358s 3s/step - loss: 0.5729 - accuracy: 0.7164 - val_loss: 0.6449 - val_accuracy: 0.6602\n",
      "Epoch 5/20\n",
      "109/109 [==============================] - ETA: 0s - loss: 0.5382 - accuracy: 0.7505\n",
      "Epoch 5: saving model to W:/Case study dataset/model\\myresnet50model_2classes_times=1_e20bs10_etimes=05_valacc=0.49.h5\n",
      "109/109 [==============================] - 361s 3s/step - loss: 0.5382 - accuracy: 0.7505 - val_loss: 64.0182 - val_accuracy: 0.4945\n",
      "Epoch 6/20\n",
      "109/109 [==============================] - ETA: 0s - loss: 0.4809 - accuracy: 0.7891\n",
      "Epoch 6: saving model to W:/Case study dataset/model\\myresnet50model_2classes_times=1_e20bs10_etimes=06_valacc=0.78.h5\n",
      "109/109 [==============================] - 389s 4s/step - loss: 0.4809 - accuracy: 0.7891 - val_loss: 0.5159 - val_accuracy: 0.7845\n",
      "Epoch 7/20\n",
      "109/109 [==============================] - ETA: 0s - loss: 0.3366 - accuracy: 0.8600\n",
      "Epoch 7: saving model to W:/Case study dataset/model\\myresnet50model_2classes_times=1_e20bs10_etimes=07_valacc=0.50.h5\n",
      "109/109 [==============================] - 362s 3s/step - loss: 0.3366 - accuracy: 0.8600 - val_loss: 2.9193 - val_accuracy: 0.5028\n",
      "Epoch 8/20\n",
      "109/109 [==============================] - ETA: 0s - loss: 0.3164 - accuracy: 0.8748\n",
      "Epoch 8: saving model to W:/Case study dataset/model\\myresnet50model_2classes_times=1_e20bs10_etimes=08_valacc=0.51.h5\n",
      "109/109 [==============================] - 359s 3s/step - loss: 0.3164 - accuracy: 0.8748 - val_loss: 7.9129 - val_accuracy: 0.5055\n",
      "Epoch 9/20\n",
      "109/109 [==============================] - ETA: 0s - loss: 0.3049 - accuracy: 0.8923\n",
      "Epoch 9: saving model to W:/Case study dataset/model\\myresnet50model_2classes_times=1_e20bs10_etimes=09_valacc=0.79.h5\n",
      "109/109 [==============================] - 370s 3s/step - loss: 0.3049 - accuracy: 0.8923 - val_loss: 0.4745 - val_accuracy: 0.7928\n",
      "Epoch 10/20\n",
      "109/109 [==============================] - ETA: 0s - loss: 0.3347 - accuracy: 0.8665\n",
      "Epoch 10: saving model to W:/Case study dataset/model\\myresnet50model_2classes_times=1_e20bs10_etimes=10_valacc=0.68.h5\n",
      "109/109 [==============================] - 358s 3s/step - loss: 0.3347 - accuracy: 0.8665 - val_loss: 1.1948 - val_accuracy: 0.6796\n",
      "Epoch 11/20\n",
      "109/109 [==============================] - ETA: 0s - loss: 0.2721 - accuracy: 0.8941\n",
      "Epoch 11: saving model to W:/Case study dataset/model\\myresnet50model_2classes_times=1_e20bs10_etimes=11_valacc=0.84.h5\n",
      "109/109 [==============================] - 354s 3s/step - loss: 0.2721 - accuracy: 0.8941 - val_loss: 0.4866 - val_accuracy: 0.8398\n",
      "Epoch 12/20\n",
      "109/109 [==============================] - ETA: 0s - loss: 0.2600 - accuracy: 0.8950 \n",
      "Epoch 12: saving model to W:/Case study dataset/model\\myresnet50model_2classes_times=1_e20bs10_etimes=12_valacc=0.51.h5\n",
      "109/109 [==============================] - 3992s 37s/step - loss: 0.2600 - accuracy: 0.8950 - val_loss: 2.4924 - val_accuracy: 0.5055\n",
      "Epoch 13/20\n",
      "109/109 [==============================] - ETA: 0s - loss: 0.2297 - accuracy: 0.9153\n",
      "Epoch 13: saving model to W:/Case study dataset/model\\myresnet50model_2classes_times=1_e20bs10_etimes=13_valacc=0.71.h5\n",
      "109/109 [==============================] - 368s 3s/step - loss: 0.2297 - accuracy: 0.9153 - val_loss: 0.7247 - val_accuracy: 0.7072\n",
      "Epoch 14/20\n",
      "109/109 [==============================] - ETA: 0s - loss: 0.1320 - accuracy: 0.9521\n",
      "Epoch 14: saving model to W:/Case study dataset/model\\myresnet50model_2classes_times=1_e20bs10_etimes=14_valacc=0.66.h5\n",
      "109/109 [==============================] - 391s 4s/step - loss: 0.1320 - accuracy: 0.9521 - val_loss: 2.2057 - val_accuracy: 0.6575\n",
      "Epoch 15/20\n",
      "109/109 [==============================] - ETA: 0s - loss: 0.0972 - accuracy: 0.9650\n",
      "Epoch 15: saving model to W:/Case study dataset/model\\myresnet50model_2classes_times=1_e20bs10_etimes=15_valacc=0.63.h5\n",
      "109/109 [==============================] - 397s 4s/step - loss: 0.0972 - accuracy: 0.9650 - val_loss: 1.6707 - val_accuracy: 0.6298\n",
      "Epoch 16/20\n",
      "109/109 [==============================] - ETA: 0s - loss: 0.0788 - accuracy: 0.9705\n",
      "Epoch 16: saving model to W:/Case study dataset/model\\myresnet50model_2classes_times=1_e20bs10_etimes=16_valacc=0.51.h5\n",
      "109/109 [==============================] - 413s 4s/step - loss: 0.0788 - accuracy: 0.9705 - val_loss: 15.0737 - val_accuracy: 0.5055\n",
      "Epoch 17/20\n",
      "109/109 [==============================] - ETA: 0s - loss: 0.1889 - accuracy: 0.9180\n",
      "Epoch 17: saving model to W:/Case study dataset/model\\myresnet50model_2classes_times=1_e20bs10_etimes=17_valacc=0.51.h5\n",
      "109/109 [==============================] - 404s 4s/step - loss: 0.1889 - accuracy: 0.9180 - val_loss: 6.5768 - val_accuracy: 0.5138\n",
      "Epoch 18/20\n",
      "109/109 [==============================] - ETA: 0s - loss: 0.0904 - accuracy: 0.9650\n",
      "Epoch 18: saving model to W:/Case study dataset/model\\myresnet50model_2classes_times=1_e20bs10_etimes=18_valacc=0.89.h5\n",
      "109/109 [==============================] - 420s 4s/step - loss: 0.0904 - accuracy: 0.9650 - val_loss: 0.3932 - val_accuracy: 0.8867\n",
      "Epoch 19/20\n",
      "109/109 [==============================] - ETA: 0s - loss: 0.0541 - accuracy: 0.9797\n",
      "Epoch 19: saving model to W:/Case study dataset/model\\myresnet50model_2classes_times=1_e20bs10_etimes=19_valacc=0.90.h5\n",
      "109/109 [==============================] - 394s 4s/step - loss: 0.0541 - accuracy: 0.9797 - val_loss: 0.3731 - val_accuracy: 0.8950\n",
      "Epoch 20/20\n",
      "109/109 [==============================] - ETA: 0s - loss: 0.0850 - accuracy: 0.9669\n",
      "Epoch 20: saving model to W:/Case study dataset/model\\myresnet50model_2classes_times=1_e20bs10_etimes=20_valacc=0.86.h5\n",
      "109/109 [==============================] - 423s 4s/step - loss: 0.0850 - accuracy: 0.9669 - val_loss: 0.5235 - val_accuracy: 0.8591\n"
     ]
    }
   ],
   "source": [
    "X_train = np.load('W:/Case study dataset/test3/X_train.npy')\n",
    "Y_train = np.load('W:/Case study dataset/test3/Y_train.npy')\n",
    "model = ResNet50(weights=None,classes=2)\n",
    "model.compile(optimizer=Adam(learning_rate =0.001),\n",
    "              loss='categorical_crossentropy',\n",
    "              metrics=['accuracy'])\n",
    "#model save path\n",
    "filepath='W:/Case study dataset/model/myresnet50model_2classes_times=1_e20bs10_etimes={epoch:02d}_valacc={val_accuracy:.2f}.h5'\n",
    "#Save it after every round of training\n",
    "checkpoint = ModelCheckpoint(filepath, verbose=1,save_best_only=False,save_weights_only=False)\n",
    "callbacks_list = [checkpoint]\n",
    "#training\n",
    "history=model.fit(X_train, Y_train, epochs=20, batch_size=10,validation_split=0.25,callbacks=callbacks_list)"
   ]
  },
  {
   "cell_type": "code",
   "execution_count": 5,
   "id": "e6598eda",
   "metadata": {},
   "outputs": [
    {
     "data": {
      "image/png": "[encoded data removed]",
      "text/plain": [
       "<Figure size 432x288 with 1 Axes>"
      ]
     },
     "metadata": {
      "needs_background": "light"
     },
     "output_type": "display_data"
    },
    {
     "data": {
      "image/png": "[encoded data removed]",
      "text/plain": [
       "<Figure size 432x288 with 1 Axes>"
      ]
     },
     "metadata": {
      "needs_background": "light"
     },
     "output_type": "display_data"
    }
   ],
   "source": [
    "# draw\n",
    "acc = history.history['accuracy']\n",
    "val_acc = history.history['val_accuracy']\n",
    "loss = history.history['loss']\n",
    "val_loss = history.history['val_loss']\n",
    "epochs = range(1, len(acc) + 1)\n",
    "plt.plot(epochs, acc, 'bo', label='Training acc')\n",
    "plt.plot(epochs, val_acc, 'b', label='Validation acc')\n",
    "plt.title('Training and validation accuracy')\n",
    "plt.legend()\n",
    "plt.figure()\n",
    "plt.plot(epochs, loss, 'bo', label='Training loss')\n",
    "plt.plot(epochs, val_loss, 'b', label='Validation loss')\n",
    "plt.title('Training and validation loss')\n",
    "plt.legend()\n",
    "plt.show()"
   ]
  },
  {
   "cell_type": "code",
   "execution_count": null,
   "id": "2b02e1ac",
   "metadata": {},
   "outputs": [],
   "source": []
  }
 ],
 "metadata": {
  "kernelspec": {
   "display_name": "Python 3 (ipykernel)",
   "language": "python",
   "name": "python3"
  },
  "language_info": {
   "codemirror_mode": {
    "name": "ipython",
    "version": 3
   },
   "file_extension": ".py",
   "mimetype": "text/x-python",
   "name": "python",
   "nbconvert_exporter": "python",
   "pygments_lexer": "ipython3",
   "version": "3.9.12"
  }
 },
 "nbformat": 4,
 "nbformat_minor": 5
}
