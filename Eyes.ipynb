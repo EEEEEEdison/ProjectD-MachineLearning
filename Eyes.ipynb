{
 "cells": [
  {
   "cell_type": "code",
   "execution_count": 1,
   "id": "2af6a5d5",
   "metadata": {},
   "outputs": [],
   "source": [
    "from tensorflow.keras.preprocessing import image\n",
    "from PIL import Image\n",
    "import random\n",
    "import numpy as np # linear algebra\n",
    "import pandas as pd # data processing, CSV file I/O (e.g. pd.read_csv)\n",
    "import os\n",
    "import cv2\n",
    "import matplotlib.pyplot as plt"
   ]
  },
  {
   "cell_type": "markdown",
   "id": "b040d6fc",
   "metadata": {},
   "source": [
    "# Creating a data set"
   ]
  },
  {
   "cell_type": "code",
   "execution_count": 2,
   "id": "e5a4fb22",
   "metadata": {},
   "outputs": [
    {
     "name": "stdout",
     "output_type": "stream",
     "text": [
      "X_train shape :  (1452, 224, 224, 3)\n",
      "Y_train shape :  (1452, 2)\n"
     ]
    }
   ],
   "source": [
    "def DataSet():\n",
    "    #Define paths for training sets\n",
    "    train_path_yawn = 'W:/Case study dataset/train/Open/'\n",
    "    train_path_no_yawn = 'W:/Case study dataset/train/Closed/'\n",
    "    # List the file name of the image in the path\n",
    "    imglist_train_yawn = os. listdir(train_path_yawn)\n",
    "    imglist_train_no_yawn = os.listdir(train_path_no_yawn)\n",
    "    # Define numpy objects to convert images to numoy vector form\n",
    "    X_train = np.empty((len(imglist_train_yawn) + len(imglist_train_no_yawn), 224, 224, 3))\n",
    "    Y_train = np.empty((len(imglist_train_yawn) + len(imglist_train_no_yawn), 2))\n",
    "    #Record the number of pictures\n",
    "    count = 0\n",
    "    for img_name in imglist_train_yawn:\n",
    "        #Get the path of the image\n",
    "        img_path = train_path_yawn + img_name\n",
    "        # The image.load_img() function reads the corresponding image and converts it to the target size\n",
    "        img = image.load_img(img_path, target_size=(224, 224))\n",
    "        # Turn the image into a numpy array and divide by 255 to normalize, so the shape of img is (224,224,3)\n",
    "        img = image.img_to_array(img) / 255.0\n",
    "        # # Load the processed image into the X_train object\n",
    "        X_train[count] = img\n",
    "        ## Load the processed images into the defined Y_train object, which is 1,0 since they are all yawn images\n",
    "        Y_train[count] = np.array((1,0))\n",
    "        count+=1\n",
    "    # Go through the pictures without yawning\n",
    "    for img_name in imglist_train_no_yawn:\n",
    "        img_path = train_path_no_yawn + img_name\n",
    "        # The image.load_img() function reads the corresponding image and converts it to the target size\n",
    "        img = image.load_img(img_path, target_size=(224, 224))\n",
    "        # Turn the image into a numpy array and divide by 255 to normalize, so the shape of img is (224,224,3)\n",
    "        img = image.img_to_array(img) / 255.0\n",
    "        # # Load the processed image into the X_train object\n",
    "        X_train[count] = img\n",
    "        # Load the processed images into the defined Y_train object, which is 1,0 since they are all yawn images\n",
    "        Y_train[count] = np.array((0,1))\n",
    "        count+=1\n",
    "    # Shuffle the data in the train set   \n",
    "    index = [i for i in range(len(X_train))]\n",
    "    random.shuffle(index)\n",
    "    X_train = X_train[index]\n",
    "    Y_train = Y_train[index]\n",
    "    #return two train dataset\n",
    "    return X_train,Y_train \n",
    "X_train,Y_train = DataSet()\n",
    "#No test set is required, and each validation splits the data from the training set to the test set\n",
    "np.save('W:/Case study dataset/test2/X_train', X_train, allow_pickle=True, fix_imports=True)\n",
    "np.save('W:/Case study dataset/test2/Y_train', Y_train, allow_pickle=True, fix_imports=True)\n",
    "print('X_train shape : ',X_train.shape)\n",
    "print('Y_train shape : ',Y_train.shape)\n"
   ]
  },
  {
   "cell_type": "markdown",
   "id": "f7b55520",
   "metadata": {},
   "source": [
    "# Training model"
   ]
  },
  {
   "cell_type": "code",
   "execution_count": 3,
   "id": "03ef157b",
   "metadata": {},
   "outputs": [],
   "source": [
    "import scipy\n",
    "from scipy import ndimage\n",
    "import tensorflow as tf\n",
    "from tensorflow.keras.applications.resnet50 import ResNet50\n",
    "from tensorflow.keras.applications.resnet50 import preprocess_input, decode_predictions\n",
    "from tensorflow.keras.optimizers import Adam\n",
    "from keras.callbacks import ModelCheckpoint"
   ]
  },
  {
   "cell_type": "code",
   "execution_count": 4,
   "id": "6ffbb1bc",
   "metadata": {},
   "outputs": [
    {
     "name": "stdout",
     "output_type": "stream",
     "text": [
      "Epoch 1/20\n",
      "109/109 [==============================] - ETA: 0s - loss: 0.6539 - accuracy: 0.7493\n",
      "Epoch 1: saving model to W:/Case study dataset/model-e\\myresnet50model_2classes_times=1_e20bs10_etimes=01_valacc=0.49.h5\n",
      "109/109 [==============================] - 379s 3s/step - loss: 0.6539 - accuracy: 0.7493 - val_loss: 1.5684 - val_accuracy: 0.4876\n",
      "Epoch 2/20\n",
      "109/109 [==============================] - ETA: 0s - loss: 0.2908 - accuracy: 0.8907\n",
      "Epoch 2: saving model to W:/Case study dataset/model-e\\myresnet50model_2classes_times=1_e20bs10_etimes=02_valacc=0.49.h5\n",
      "109/109 [==============================] - 369s 3s/step - loss: 0.2908 - accuracy: 0.8907 - val_loss: 1.4564 - val_accuracy: 0.4876\n",
      "Epoch 3/20\n",
      "109/109 [==============================] - ETA: 0s - loss: 0.2086 - accuracy: 0.9201\n",
      "Epoch 3: saving model to W:/Case study dataset/model-e\\myresnet50model_2classes_times=1_e20bs10_etimes=03_valacc=0.88.h5\n",
      "109/109 [==============================] - 375s 3s/step - loss: 0.2086 - accuracy: 0.9201 - val_loss: 0.5572 - val_accuracy: 0.8815\n",
      "Epoch 4/20\n",
      "109/109 [==============================] - ETA: 0s - loss: 0.1990 - accuracy: 0.9376\n",
      "Epoch 4: saving model to W:/Case study dataset/model-e\\myresnet50model_2classes_times=1_e20bs10_etimes=04_valacc=0.97.h5\n",
      "109/109 [==============================] - 357s 3s/step - loss: 0.1990 - accuracy: 0.9376 - val_loss: 0.3130 - val_accuracy: 0.9669\n",
      "Epoch 5/20\n",
      "109/109 [==============================] - ETA: 0s - loss: 0.2502 - accuracy: 0.9320\n",
      "Epoch 5: saving model to W:/Case study dataset/model-e\\myresnet50model_2classes_times=1_e20bs10_etimes=05_valacc=0.74.h5\n",
      "109/109 [==============================] - 373s 3s/step - loss: 0.2502 - accuracy: 0.9320 - val_loss: 0.9084 - val_accuracy: 0.7355\n",
      "Epoch 6/20\n",
      "109/109 [==============================] - ETA: 0s - loss: 0.1987 - accuracy: 0.9376\n",
      "Epoch 6: saving model to W:/Case study dataset/model-e\\myresnet50model_2classes_times=1_e20bs10_etimes=06_valacc=0.53.h5\n",
      "109/109 [==============================] - 381s 3s/step - loss: 0.1987 - accuracy: 0.9376 - val_loss: 26.6421 - val_accuracy: 0.5317\n",
      "Epoch 7/20\n",
      "109/109 [==============================] - ETA: 0s - loss: 0.2392 - accuracy: 0.9238\n",
      "Epoch 7: saving model to W:/Case study dataset/model-e\\myresnet50model_2classes_times=1_e20bs10_etimes=07_valacc=0.55.h5\n",
      "109/109 [==============================] - 382s 4s/step - loss: 0.2392 - accuracy: 0.9238 - val_loss: 6.3917 - val_accuracy: 0.5482\n",
      "Epoch 8/20\n",
      "109/109 [==============================] - ETA: 0s - loss: 0.0962 - accuracy: 0.9734\n",
      "Epoch 8: saving model to W:/Case study dataset/model-e\\myresnet50model_2classes_times=1_e20bs10_etimes=08_valacc=0.94.h5\n",
      "109/109 [==============================] - 379s 3s/step - loss: 0.0962 - accuracy: 0.9734 - val_loss: 0.1599 - val_accuracy: 0.9421\n",
      "Epoch 9/20\n",
      "109/109 [==============================] - ETA: 0s - loss: 0.0786 - accuracy: 0.9743\n",
      "Epoch 9: saving model to W:/Case study dataset/model-e\\myresnet50model_2classes_times=1_e20bs10_etimes=09_valacc=0.92.h5\n",
      "109/109 [==============================] - 373s 3s/step - loss: 0.0786 - accuracy: 0.9743 - val_loss: 0.3579 - val_accuracy: 0.9174\n",
      "Epoch 10/20\n",
      "109/109 [==============================] - ETA: 0s - loss: 0.0456 - accuracy: 0.9853\n",
      "Epoch 10: saving model to W:/Case study dataset/model-e\\myresnet50model_2classes_times=1_e20bs10_etimes=10_valacc=0.98.h5\n",
      "109/109 [==============================] - 391s 4s/step - loss: 0.0456 - accuracy: 0.9853 - val_loss: 0.0908 - val_accuracy: 0.9807\n",
      "Epoch 11/20\n",
      "109/109 [==============================] - ETA: 0s - loss: 0.1375 - accuracy: 0.9660\n",
      "Epoch 11: saving model to W:/Case study dataset/model-e\\myresnet50model_2classes_times=1_e20bs10_etimes=11_valacc=0.81.h5\n",
      "109/109 [==============================] - 380s 3s/step - loss: 0.1375 - accuracy: 0.9660 - val_loss: 7.3059 - val_accuracy: 0.8127\n",
      "Epoch 12/20\n",
      "109/109 [==============================] - ETA: 0s - loss: 0.1327 - accuracy: 0.9614\n",
      "Epoch 12: saving model to W:/Case study dataset/model-e\\myresnet50model_2classes_times=1_e20bs10_etimes=12_valacc=0.94.h5\n",
      "109/109 [==============================] - 381s 3s/step - loss: 0.1327 - accuracy: 0.9614 - val_loss: 0.2093 - val_accuracy: 0.9394\n",
      "Epoch 13/20\n",
      "109/109 [==============================] - ETA: 0s - loss: 0.0851 - accuracy: 0.9715\n",
      "Epoch 13: saving model to W:/Case study dataset/model-e\\myresnet50model_2classes_times=1_e20bs10_etimes=13_valacc=0.81.h5\n",
      "109/109 [==============================] - 396s 4s/step - loss: 0.0851 - accuracy: 0.9715 - val_loss: 1.6334 - val_accuracy: 0.8127\n",
      "Epoch 14/20\n",
      "109/109 [==============================] - ETA: 0s - loss: 0.0497 - accuracy: 0.9835\n",
      "Epoch 14: saving model to W:/Case study dataset/model-e\\myresnet50model_2classes_times=1_e20bs10_etimes=14_valacc=0.95.h5\n",
      "109/109 [==============================] - 387s 4s/step - loss: 0.0497 - accuracy: 0.9835 - val_loss: 0.2026 - val_accuracy: 0.9532\n",
      "Epoch 15/20\n",
      "109/109 [==============================] - ETA: 0s - loss: 0.0499 - accuracy: 0.9853\n",
      "Epoch 15: saving model to W:/Case study dataset/model-e\\myresnet50model_2classes_times=1_e20bs10_etimes=15_valacc=0.98.h5\n",
      "109/109 [==============================] - 365s 3s/step - loss: 0.0499 - accuracy: 0.9853 - val_loss: 0.0836 - val_accuracy: 0.9807\n",
      "Epoch 16/20\n",
      "109/109 [==============================] - ETA: 0s - loss: 0.0347 - accuracy: 0.9871\n",
      "Epoch 16: saving model to W:/Case study dataset/model-e\\myresnet50model_2classes_times=1_e20bs10_etimes=16_valacc=0.98.h5\n",
      "109/109 [==============================] - 365s 3s/step - loss: 0.0347 - accuracy: 0.9871 - val_loss: 0.0803 - val_accuracy: 0.9752\n",
      "Epoch 17/20\n",
      "109/109 [==============================] - ETA: 0s - loss: 0.0208 - accuracy: 0.9927\n",
      "Epoch 17: saving model to W:/Case study dataset/model-e\\myresnet50model_2classes_times=1_e20bs10_etimes=17_valacc=0.99.h5\n",
      "109/109 [==============================] - 373s 3s/step - loss: 0.0208 - accuracy: 0.9927 - val_loss: 0.0557 - val_accuracy: 0.9862\n",
      "Epoch 18/20\n",
      "109/109 [==============================] - ETA: 0s - loss: 0.0239 - accuracy: 0.9908\n",
      "Epoch 18: saving model to W:/Case study dataset/model-e\\myresnet50model_2classes_times=1_e20bs10_etimes=18_valacc=0.60.h5\n",
      "109/109 [==============================] - 360s 3s/step - loss: 0.0239 - accuracy: 0.9908 - val_loss: 1.2516 - val_accuracy: 0.5978\n",
      "Epoch 19/20\n",
      "109/109 [==============================] - ETA: 0s - loss: 0.0658 - accuracy: 0.9807\n",
      "Epoch 19: saving model to W:/Case study dataset/model-e\\myresnet50model_2classes_times=1_e20bs10_etimes=19_valacc=0.96.h5\n",
      "109/109 [==============================] - 366s 3s/step - loss: 0.0658 - accuracy: 0.9807 - val_loss: 0.2399 - val_accuracy: 0.9559\n",
      "Epoch 20/20\n",
      "109/109 [==============================] - ETA: 0s - loss: 0.0871 - accuracy: 0.9725\n",
      "Epoch 20: saving model to W:/Case study dataset/model-e\\myresnet50model_2classes_times=1_e20bs10_etimes=20_valacc=0.98.h5\n",
      "109/109 [==============================] - 389s 4s/step - loss: 0.0871 - accuracy: 0.9725 - val_loss: 0.1402 - val_accuracy: 0.9752\n"
     ]
    }
   ],
   "source": [
    "X_train = np.load('W:/Case study dataset/test2/X_train.npy')\n",
    "Y_train = np.load('W:/Case study dataset/test2/Y_train.npy')\n",
    "model = ResNet50(weights=None,classes=2)\n",
    "model.compile(optimizer=Adam(learning_rate =0.001),\n",
    "              loss='categorical_crossentropy',\n",
    "              metrics=['accuracy'])\n",
    "#model save path\n",
    "filepath='W:/Case study dataset/model-e/myresnet50model_2classes_times=1_e20bs10_etimes={epoch:02d}_valacc={val_accuracy:.2f}.h5'\n",
    "#Save it after every round of training\n",
    "checkpoint = ModelCheckpoint(filepath, verbose=1,save_best_only=False,save_weights_only=False)\n",
    "callbacks_list = [checkpoint]\n",
    "#training\n",
    "history=model.fit(X_train, Y_train, epochs=20, batch_size=10,validation_split=0.25,callbacks=callbacks_list)"
   ]
  },
  {
   "cell_type": "code",
   "execution_count": null,
   "id": "b4d04828",
   "metadata": {},
   "outputs": [],
   "source": []
  }
 ],
 "metadata": {
  "kernelspec": {
   "display_name": "Python 3 (ipykernel)",
   "language": "python",
   "name": "python3"
  },
  "language_info": {
   "codemirror_mode": {
    "name": "ipython",
    "version": 3
   },
   "file_extension": ".py",
   "mimetype": "text/x-python",
   "name": "python",
   "nbconvert_exporter": "python",
   "pygments_lexer": "ipython3",
   "version": "3.9.12"
  }
 },
 "nbformat": 4,
 "nbformat_minor": 5
}
